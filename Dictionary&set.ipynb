{
 "cells": [
  {
   "cell_type": "code",
   "execution_count": 23,
   "metadata": {},
   "outputs": [
    {
     "name": "stdout",
     "output_type": "stream",
     "text": [
      "dict_keys(['Name', 'Age', 'rollno'])\n",
      "dict_items([('Name', ['A', 'B', 'C']), ('Age', [12, 13, 14]), ('rollno', [1, 2, 3])])\n",
      "dict_values([['A', 'B', 'C'], [12, 13, 14], [1, 2, 3]])\n",
      "dict_items([('Name', ['A', 'B', 'C']), ('Age', [12, 13, 14]), ('rollno', [1, 2, 3]), ('EmailID', ['zxc', 'klw', 'typ'])])\n",
      "Name ['A', 'B', 'C']\n",
      "Age [12, 13, 14]\n",
      "rollno [1, 2, 3]\n",
      "EmailID ['zxc', 'klw', 'typ']\n"
     ]
    }
   ],
   "source": [
    "Z = {'Name': ['A','B','C'], 'Age':[12,13,14], 'rollno':[1,2,3]}\n",
    "print (Z.keys())\n",
    "print(Z.items())\n",
    "print (Z.values())\n",
    "Z['EmailID']=['zxc','klw','typ']\n",
    "print (Z.items())\n",
    "for i,j in Z.items():\n",
    "    print (i,j)"
   ]
  },
  {
   "cell_type": "code",
   "execution_count": 24,
   "metadata": {},
   "outputs": [
    {
     "name": "stdout",
     "output_type": "stream",
     "text": [
      "set()\n"
     ]
    }
   ],
   "source": [
    "set1 = set()\n",
    "print (set1)"
   ]
  },
  {
   "cell_type": "code",
   "execution_count": 52,
   "metadata": {},
   "outputs": [
    {
     "name": "stdout",
     "output_type": "stream",
     "text": [
      "{1, 2, 3, 6, 11, 12, 45, 23}\n",
      "[1, 2, 6, 3, 45, 11, 12, 23]\n"
     ]
    }
   ],
   "source": [
    "set2 = [1,2,6,3,45,11,12,23]\n",
    "s=set(set2)\n",
    "print (s)\n",
    "for i in range(1,6):\n",
    "    s.add(i)\n",
    "print (set2)"
   ]
  },
  {
   "cell_type": "code",
   "execution_count": 107,
   "metadata": {},
   "outputs": [
    {
     "name": "stdout",
     "output_type": "stream",
     "text": [
      "{}\n",
      "{1: 'Geeks', 2: 'for', 3: 'Geeks'}\n",
      "{'Name': 'Geeks', 1: [2, 3, 4]}\n",
      "{'Name': ['abc', 'bzx'], 'rollno': 1, 'N': 'eva'}\n"
     ]
    }
   ],
   "source": [
    "Dict ={}\n",
    "print (Dict)\n",
    "Dict = {1:'Geeks',2:'for',3:'Geeks'}\n",
    "print (Dict)\n",
    "Dict ={'Name':'Geeks', 1: [2,3,4]}\n",
    "print (Dict)\n",
    "Dict = dict({'Name':['abc','bzx'], 'rollno':1})\n",
    "Dict['Name'[0]] ='eva'\n",
    "print (Dict)"
   ]
  },
  {
   "cell_type": "code",
   "execution_count": 110,
   "metadata": {},
   "outputs": [
    {
     "ename": "SyntaxError",
     "evalue": "invalid syntax (<ipython-input-110-f4eed85bdc65>, line 15)",
     "output_type": "error",
     "traceback": [
      "\u001b[1;36m  File \u001b[1;32m\"<ipython-input-110-f4eed85bdc65>\"\u001b[1;36m, line \u001b[1;32m15\u001b[0m\n\u001b[1;33m    print (Dict.[1])\u001b[0m\n\u001b[1;37m                ^\u001b[0m\n\u001b[1;31mSyntaxError\u001b[0m\u001b[1;31m:\u001b[0m invalid syntax\n"
     ]
    }
   ],
   "source": [
    "Dict = {}\n",
    "print (Dict)\n",
    "Dict[0]='Geeks'\n",
    "Dict[1] ='for'\n",
    "Dict[2] = 'Geeks'\n",
    "Dict['value_set'] = [1,2,3]\n",
    "print (Dict)\n",
    "Dict[1]='Geeks'\n",
    "print (Dict)\n",
    "print (Dict.keys())\n",
    "print (Dict.values())\n",
    "print (Dict.items())\n",
    "print (Dict['value_set'])\n",
    "print (Dict.get(1))\n",
    "print (Dict.keys[1])"
   ]
  },
  {
   "cell_type": "code",
   "execution_count": 7,
   "metadata": {},
   "outputs": [
    {
     "name": "stdout",
     "output_type": "stream",
     "text": [
      "hi is not python keyword\n",
      "All the keywords in python are-\n",
      "['False', 'None', 'True', 'and', 'as', 'assert', 'async', 'await', 'break', 'class', 'continue', 'def', 'del', 'elif', 'else', 'except', 'finally', 'for', 'from', 'global', 'if', 'import', 'in', 'is', 'lambda', 'nonlocal', 'not', 'or', 'pass', 'raise', 'return', 'try', 'while', 'with', 'yield']\n"
     ]
    }
   ],
   "source": [
    "#import keyword\n",
    "s='hi'\n",
    "if keyword.iskeyword(s):\n",
    "    print(s+' ' + 'is a python keyword')\n",
    "else:\n",
    "    print (s + ' '+ 'is not python keyword')\n",
    "print ('All the keywords in python are-')\n",
    "print (keyword.kwlist)"
   ]
  },
  {
   "cell_type": "code",
   "execution_count": 22,
   "metadata": {},
   "outputs": [
    {
     "name": "stdout",
     "output_type": "stream",
     "text": [
      "[1, 2, 3, 5]\n"
     ]
    }
   ],
   "source": [
    "a=[1,2,3,5]\n",
    "print (a)"
   ]
  },
  {
   "cell_type": "code",
   "execution_count": 34,
   "metadata": {},
   "outputs": [
    {
     "name": "stdout",
     "output_type": "stream",
     "text": [
      "equal\n"
     ]
    }
   ],
   "source": [
    "a = 20\n",
    "if (a==50):\n",
    "    print (\" smaller\")\n",
    "elif (a==20):\n",
    "    print (\"equal\")\n",
    "else:\n",
    "    print (\"greater\")"
   ]
  },
  {
   "cell_type": "code",
   "execution_count": 38,
   "metadata": {},
   "outputs": [
    {
     "name": "stdout",
     "output_type": "stream",
     "text": [
      "Enter first no.40\n",
      "Enter second no.5\n",
      "200\n",
      "more\n"
     ]
    }
   ],
   "source": [
    "num1= int(input(\"Enter first no.\"))\n",
    "num2 = int (input(\"Enter second no.\"))\n",
    "out = num1 * num2\n",
    "print (out)\n",
    "if (out<50):\n",
    "    print (\"less\")\n",
    "elif (out>50):\n",
    "    print (\"more\")\n",
    "else:\n",
    "    print (\"equal\")"
   ]
  },
  {
   "cell_type": "code",
   "execution_count": 15,
   "metadata": {},
   "outputs": [
    {
     "name": "stdout",
     "output_type": "stream",
     "text": [
      "Enter the no.4\n",
      "1\n"
     ]
    }
   ],
   "source": [
    "z = int(input(\"Enter the no.\"))\n",
    "for i in range(z):\n",
    "    a=0\n",
    "a+=1\n",
    "print (a)\n",
    "    "
   ]
  },
  {
   "cell_type": "code",
   "execution_count": null,
   "metadata": {},
   "outputs": [],
   "source": []
  }
 ],
 "metadata": {
  "kernelspec": {
   "display_name": "Python 3",
   "language": "python",
   "name": "python3"
  },
  "language_info": {
   "codemirror_mode": {
    "name": "ipython",
    "version": 3
   },
   "file_extension": ".py",
   "mimetype": "text/x-python",
   "name": "python",
   "nbconvert_exporter": "python",
   "pygments_lexer": "ipython3",
   "version": "3.7.4"
  }
 },
 "nbformat": 4,
 "nbformat_minor": 2
}
