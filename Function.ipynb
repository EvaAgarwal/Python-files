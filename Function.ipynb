{
 "cells": [
  {
   "cell_type": "code",
   "execution_count": 16,
   "metadata": {},
   "outputs": [
    {
     "name": "stdout",
     "output_type": "stream",
     "text": [
      "30\n"
     ]
    }
   ],
   "source": [
    "def  sum (a,b):\n",
    "    print (a+b)\n",
    "sum(10,20)\n"
   ]
  },
  {
   "cell_type": "code",
   "execution_count": 1,
   "metadata": {},
   "outputs": [
    {
     "name": "stdout",
     "output_type": "stream",
     "text": [
      "Enter the no.4\n",
      "Enter the no.5\n",
      "1024\n"
     ]
    }
   ],
   "source": [
    "a = int(input(\"Enter the no.\"))\n",
    "b = int(input(\"Enter the no.\"))\n",
    "def square(a,b):\n",
    "    return a**b\n",
    "\n",
    "#print (a**b)\n",
    "#c= square(a,b)\n",
    "#c"
   ]
  },
  {
   "cell_type": "code",
   "execution_count": 27,
   "metadata": {},
   "outputs": [
    {
     "data": {
      "text/plain": [
       "10"
      ]
     },
     "execution_count": 27,
     "metadata": {},
     "output_type": "execute_result"
    }
   ],
   "source": [
    "L = [1,2,3,4]\n",
    "def listsum(L):\n",
    "    sum = 0\n",
    "    for i in L:\n",
    "        sum+=i\n",
    "    return sum\n",
    "c= listsum(L)\n",
    "c"
   ]
  },
  {
   "cell_type": "code",
   "execution_count": 61,
   "metadata": {},
   "outputs": [
    {
     "name": "stdout",
     "output_type": "stream",
     "text": [
      "Enter the no.10\n",
      "Enter the no.10\n",
      "Enter the operator+\n",
      "20\n"
     ]
    }
   ],
   "source": [
    "a = int(input(\"Enter the no.\"))\n",
    "b = int(input(\"Enter the no.\"))\n",
    "c = input(\"Enter the operator\")\n",
    "if c=='+':\n",
    "    def sum(a,b):\n",
    "        return a+b\n",
    "    print (sum(a,b))\n",
    "elif c=='-':\n",
    "    def sub(a,b):\n",
    "        return a-b\n",
    "    print (sub(a,b))\n",
    "elif c=='*':\n",
    "    def mul(a,b):\n",
    "        return a*b\n",
    "    print (mul(a,b))\n",
    "else:\n",
    "    def div(a,b):\n",
    "        return a/b\n",
    "    print (div(a,b))"
   ]
  },
  {
   "cell_type": "code",
   "execution_count": 55,
   "metadata": {},
   "outputs": [
    {
     "data": {
      "text/plain": [
       "30"
      ]
     },
     "execution_count": 55,
     "metadata": {},
     "output_type": "execute_result"
    }
   ],
   "source": [
    "def abc(a,b):\n",
    "    print(a+b)\n",
    "sum (10,20)"
   ]
  },
  {
   "cell_type": "code",
   "execution_count": 49,
   "metadata": {},
   "outputs": [
    {
     "name": "stdout",
     "output_type": "stream",
     "text": [
      "1.0\n",
      "0.3010299956639812\n",
      "27.0\n",
      "2.23606797749979\n",
      "6.0\n",
      "3.141592653589793\n",
      "2.718281828459045\n"
     ]
    }
   ],
   "source": [
    "#import math\n",
    "print (math.log2(2))\n",
    "print(math.log10(2))\n",
    "print (math.pow(3,3))\n",
    "print (math.sqrt(5))\n",
    "a=4\n",
    "print (math.gamma(a))\n",
    "print (math.pi)\n",
    "print(math.e)"
   ]
  },
  {
   "cell_type": "code",
   "execution_count": 48,
   "metadata": {},
   "outputs": [
    {
     "name": "stdout",
     "output_type": "stream",
     "text": [
      "1.0\n"
     ]
    }
   ],
   "source": [
    "print (math.log2(2))"
   ]
  },
  {
   "cell_type": "code",
   "execution_count": 21,
   "metadata": {},
   "outputs": [
    {
     "name": "stdout",
     "output_type": "stream",
     "text": [
      "0.3010299956639812\n",
      "27.0\n",
      "2.23606797749979\n"
     ]
    }
   ],
   "source": [
    "print(math.log10(2))\n",
    "print (math.pow(3,3))\n",
    "print (math.sqrt(5))"
   ]
  },
  {
   "cell_type": "code",
   "execution_count": 26,
   "metadata": {},
   "outputs": [
    {
     "name": "stdout",
     "output_type": "stream",
     "text": [
      "2.321928094887362\n"
     ]
    }
   ],
   "source": [
    "print (math.log2(5))"
   ]
  },
  {
   "cell_type": "code",
   "execution_count": 30,
   "metadata": {},
   "outputs": [
    {
     "name": "stdout",
     "output_type": "stream",
     "text": [
      "2.6457513110645907\n"
     ]
    }
   ],
   "source": [
    "print (math.sqrt(7))"
   ]
  },
  {
   "cell_type": "code",
   "execution_count": 109,
   "metadata": {},
   "outputs": [
    {
     "name": "stdout",
     "output_type": "stream",
     "text": [
      "['False', 'None', 'True', 'and', 'as', 'assert', 'async', 'await', 'break', 'class', 'continue', 'def', 'del', 'elif', 'else', 'except', 'finally', 'for', 'from', 'global', 'if', 'import', 'in', 'is', 'lambda', 'nonlocal', 'not', 'or', 'pass', 'raise', 'return', 'try', 'while', 'with', 'yield']\n"
     ]
    }
   ],
   "source": [
    "import keyword\n",
    "print(keyword.kwlist)"
   ]
  },
  {
   "cell_type": "code",
   "execution_count": 66,
   "metadata": {},
   "outputs": [
    {
     "name": "stdout",
     "output_type": "stream",
     "text": [
      "-0.5440211108893698\n",
      "0.28366218546322625\n",
      "0.6483608274590866\n",
      "572.9577951308232\n",
      "0.17453292519943295\n"
     ]
    }
   ],
   "source": [
    "import math\n",
    "print (math.sin(a))\n",
    "print (math.cos(b))\n",
    "print (math.tan(a))\n",
    "print (math.degrees(a))\n",
    "print (math.radians(a))"
   ]
  },
  {
   "cell_type": "code",
   "execution_count": 80,
   "metadata": {},
   "outputs": [
    {
     "name": "stdout",
     "output_type": "stream",
     "text": [
      "hi\n"
     ]
    }
   ],
   "source": [
    "def f1():\n",
    "    s = 'hi'\n",
    "    #def f2():\n",
    "    print (s)\n",
    "    #f2()\n",
    "f1()"
   ]
  },
  {
   "cell_type": "code",
   "execution_count": 86,
   "metadata": {},
   "outputs": [
    {
     "name": "stdout",
     "output_type": "stream",
     "text": [
      "30\n"
     ]
    }
   ],
   "source": [
    "def  sum (a,b):\n",
    "    sum = (a,b)\n",
    "print(10+20)"
   ]
  },
  {
   "cell_type": "code",
   "execution_count": 96,
   "metadata": {},
   "outputs": [
    {
     "name": "stdout",
     "output_type": "stream",
     "text": [
      "[10, 20, 30]\n",
      "[10, 20, 50]\n",
      "[10, 20, 50]\n"
     ]
    }
   ],
   "source": [
    "def changeme(mylist):\n",
    "    print (mylist)\n",
    "    mylist[2] = 50\n",
    "    print(mylist)\n",
    "    return\n",
    "mylist= [10,20,30]\n",
    "changeme (mylist)\n",
    "print (mylist)"
   ]
  },
  {
   "cell_type": "code",
   "execution_count": 111,
   "metadata": {},
   "outputs": [
    {
     "name": "stdout",
     "output_type": "stream",
     "text": [
      "python\n"
     ]
    }
   ],
   "source": [
    "# creating a function\n",
    "def hello(str):\n",
    "    print(str)\n",
    "    return\n",
    "\n",
    "# now we can cALL hello function\n",
    "hello (str='python')"
   ]
  },
  {
   "cell_type": "code",
   "execution_count": 129,
   "metadata": {},
   "outputs": [
    {
     "name": "stdout",
     "output_type": "stream",
     "text": [
      "Name: Eva\n",
      "Age: 12\n",
      "Name: ghy\n",
      "Age: 12\n",
      "Name: tyu\n",
      "Age: 56\n"
     ]
    }
   ],
   "source": [
    "def info(name, age=56):\n",
    "    print(\"Name:\", name)\n",
    "    print (\"Age:\", age)\n",
    "    return\n",
    "info(name = \"Eva\", age = 12)\n",
    "info(name = \"ghy\", age = 12)\n",
    "info(name = \"tyu\")\n"
   ]
  },
  {
   "cell_type": "code",
   "execution_count": 164,
   "metadata": {},
   "outputs": [
    {
     "name": "stdout",
     "output_type": "stream",
     "text": [
      "Enter the no.4\n",
      "Enter the no.4\n"
     ]
    },
    {
     "data": {
      "text/plain": [
       "8"
      ]
     },
     "execution_count": 164,
     "metadata": {},
     "output_type": "execute_result"
    }
   ],
   "source": [
    "total = 0\n",
    "a= int(input(\"Enter the no.\"))\n",
    "b = int(input(\"Enter the no.\"))\n",
    "def sum(a,b):\n",
    "    total= a+b\n",
    "    return total\n",
    "#sum(10,20)\n",
    "sum(a,b)"
   ]
  },
  {
   "cell_type": "code",
   "execution_count": 152,
   "metadata": {},
   "outputs": [
    {
     "name": "stdout",
     "output_type": "stream",
     "text": [
      "[10, 20, 30]\n",
      "[50]\n"
     ]
    }
   ],
   "source": [
    "\n",
    "def var(var1 , var2):\n",
    "    print(var1)\n",
    "    print (var2)\n",
    "    return\n",
    "var( [10,20,30],\n",
    "    var2=[50])\n"
   ]
  },
  {
   "cell_type": "code",
   "execution_count": 167,
   "metadata": {},
   "outputs": [
    {
     "name": "stdout",
     "output_type": "stream",
     "text": [
      "first and last character is equal\n"
     ]
    }
   ],
   "source": [
    "#slicing_exercise1\n",
    "#Check whether first and last character in the string same or not.\n",
    "str = \"EvaAgarwal\"\n",
    "if (str[0]==str[-1]):\n",
    "    print (\"first and last character is equal\")\n",
    "else:\n",
    "    print (\"first and last character is not equal\")"
   ]
  },
  {
   "cell_type": "code",
   "execution_count": 184,
   "metadata": {},
   "outputs": [
    {
     "name": "stdout",
     "output_type": "stream",
     "text": [
      "Enter the stringeva\n"
     ]
    },
    {
     "data": {
      "text/plain": [
       "'ave'"
      ]
     },
     "execution_count": 184,
     "metadata": {},
     "output_type": "execute_result"
    }
   ],
   "source": [
    "#slicing_exercise1\n",
    "#Get string from user and print it in reverse order\n",
    "string = (input(\"Enter the string\"))\n",
    "def reverse(string):\n",
    "    string = string [::-1]\n",
    "    return string\n",
    "reverse(string)"
   ]
  },
  {
   "cell_type": "code",
   "execution_count": 188,
   "metadata": {},
   "outputs": [
    {
     "name": "stdout",
     "output_type": "stream",
     "text": [
      "b is greater: 20\n"
     ]
    }
   ],
   "source": [
    "#if else exercise\n",
    "#To find maximum number from given two numbers\n",
    "#a = int(input(\"Enter first no.\"))\n",
    "#b= int(input(\"Enter second no.\"))\n",
    "a = 10\n",
    "b = 20\n",
    "if (a>b):\n",
    "    print (\"a is greater: \",a)\n",
    "else:\n",
    "    print (\"b is greater:\", b)"
   ]
  },
  {
   "cell_type": "code",
   "execution_count": 192,
   "metadata": {},
   "outputs": [
    {
     "name": "stdout",
     "output_type": "stream",
     "text": [
      " a is even: 1928\n"
     ]
    }
   ],
   "source": [
    "# if else exercise\n",
    "#To  find the given number is odd or even\n",
    "a = 1928\n",
    "if(a%2==0):\n",
    "    print(\" a is even:\", a)\n",
    "else:\n",
    "    print(\"a is odd:\", a)"
   ]
  },
  {
   "cell_type": "code",
   "execution_count": 197,
   "metadata": {},
   "outputs": [
    {
     "name": "stdout",
     "output_type": "stream",
     "text": [
      "Enter the no. of units300\n",
      "750.0\n",
      "787.5\n"
     ]
    }
   ],
   "source": [
    "# if else exercise\n",
    "# Write a program to calculate electric bill based on usage of number of units\n",
    "#Get units from user. and calculate bill based on following criteria\n",
    "#if number of units consumed greater than 300 then per unit charge is  Rs. 2.5\n",
    "#if number of units consumed between 200 to 300 then per unit charge is  Rs. 1.5\n",
    "#otherwise per unit charge Rs. 1\n",
    "#Also add GST 5% on total amount\n",
    "#Print final amount\n",
    "\n",
    "units = float(input(\"Enter the no. of units\"))\n",
    "if (units>=300):\n",
    "    FA = (units*2.5)\n",
    "    print(FA)\n",
    "    GST = ((5/100)*FA)\n",
    "    print (GST + FA)\n",
    "elif (units>200 and units<300):\n",
    "    FA= (units* 1.5)\n",
    "    print (FA)\n",
    "    GST = ((5/100)*FA)\n",
    "    print (GST+FA)\n",
    "else:\n",
    "    FA =(units*1)\n",
    "    print (FA)\n",
    "    GST = ((5/100)*FA)\n",
    "    print (GST+FA)\n",
    "    "
   ]
  },
  {
   "cell_type": "code",
   "execution_count": 208,
   "metadata": {},
   "outputs": [
    {
     "name": "stdout",
     "output_type": "stream",
     "text": [
      "c is greater\n"
     ]
    }
   ],
   "source": [
    "# if else exercise\n",
    "#Write a program to find maximum number from given three numbers\n",
    "a = 4\n",
    "b = 1\n",
    "c = 10\n",
    "if a>b and b>c:\n",
    "    print (\"a is greater\")\n",
    "elif b>a and b>c:\n",
    "    print (\" b is greater\")\n",
    "else:\n",
    "    print (\"c is greater\")"
   ]
  },
  {
   "cell_type": "code",
   "execution_count": 11,
   "metadata": {},
   "outputs": [
    {
     "ename": "SyntaxError",
     "evalue": "invalid syntax (<ipython-input-11-adcfd4612ce5>, line 12)",
     "output_type": "error",
     "traceback": [
      "\u001b[1;36m  File \u001b[1;32m\"<ipython-input-11-adcfd4612ce5>\"\u001b[1;36m, line \u001b[1;32m12\u001b[0m\n\u001b[1;33m    print (f \"you will be eligible after {age}\")\u001b[0m\n\u001b[1;37m                                              ^\u001b[0m\n\u001b[1;31mSyntaxError\u001b[0m\u001b[1;31m:\u001b[0m invalid syntax\n"
     ]
    }
   ],
   "source": [
    "# if else exercise\n",
    "#Write a piece of python code that ask user name and birth year.\n",
    "#If the age of the person is above 18 allow person to cast a vote.\n",
    "#If age is below 18 years give a message as “sorry person_name you are a minor”.\n",
    "#Also tell person the year when they can cast their vote.\n",
    "name = input(\"Enter your name\")\n",
    "age = int (input(\"Enter birth year\"))\n",
    "if age>=18:\n",
    "    print (\"allowed to vote\")\n",
    "else:\n",
    "    a = (18-{age})\n",
    "print (f \"you will be eligible after {age}\")\n",
    "print (f \"sorry {name} you are a minor\")\n"
   ]
  },
  {
   "cell_type": "code",
   "execution_count": 218,
   "metadata": {},
   "outputs": [
    {
     "name": "stdout",
     "output_type": "stream",
     "text": [
      "1\n",
      "2\n",
      "3\n",
      "4\n",
      "5\n",
      "6\n",
      "7\n",
      "8\n",
      "9\n",
      "10\n",
      "55\n"
     ]
    }
   ],
   "source": [
    "#looping\n",
    "#To perform addition of all number between 1 to 10\n",
    "sum=0\n",
    "for i in range(1,11):\n",
    "    print (i)\n",
    "    sum+=i\n",
    "print (sum)\n"
   ]
  },
  {
   "cell_type": "code",
   "execution_count": 36,
   "metadata": {},
   "outputs": [
    {
     "name": "stdout",
     "output_type": "stream",
     "text": [
      "x is max\n"
     ]
    },
    {
     "data": {
      "text/plain": [
       "9000"
      ]
     },
     "execution_count": 36,
     "metadata": {},
     "output_type": "execute_result"
    }
   ],
   "source": [
    "#functions\n",
    "# Write a Python function to find the Max of three numbers.\n",
    "def max(x,y,z):\n",
    "    if (x>y and x>z):\n",
    "        print (\"x is max\")\n",
    "        return x\n",
    "    elif (y>x and y>z):\n",
    "        print (\"y is max\" )\n",
    "        return y\n",
    "    else:\n",
    "        print (\"z is max\")\n",
    "        return z\n",
    "\n",
    "max(9000,2000,5000)"
   ]
  },
  {
   "cell_type": "code",
   "execution_count": 51,
   "metadata": {},
   "outputs": [
    {
     "name": "stdout",
     "output_type": "stream",
     "text": [
      "10\n"
     ]
    }
   ],
   "source": [
    "#functions\n",
    "#Write a Python function to sum all the numbers in a list\n",
    "def sum(numbers):\n",
    "    total = 0\n",
    "    for i in numbers:\n",
    "        total+=i\n",
    "    return total\n",
    "\n",
    "print(sum((1,2,3,4)))"
   ]
  },
  {
   "cell_type": "code",
   "execution_count": 54,
   "metadata": {},
   "outputs": [
    {
     "name": "stdout",
     "output_type": "stream",
     "text": [
      "24\n"
     ]
    }
   ],
   "source": [
    "#functions\n",
    "#Write a Python function to multiply all the numbers in a list\n",
    "def multiply(numbers):\n",
    "    total = 1\n",
    "    for i in numbers:\n",
    "        total *=i\n",
    "    return total\n",
    "print (multiply((1,2,3,4)))"
   ]
  },
  {
   "cell_type": "code",
   "execution_count": 110,
   "metadata": {},
   "outputs": [
    {
     "name": "stdout",
     "output_type": "stream",
     "text": [
      "-81\n"
     ]
    }
   ],
   "source": [
    "#functions\n",
    "#substraction\n",
    "def sub (numbers):\n",
    "    x =0\n",
    "    for i in numbers:\n",
    "        x-=i\n",
    "    return x\n",
    "print (sub((91,-10)))"
   ]
  },
  {
   "cell_type": "code",
   "execution_count": 6,
   "metadata": {},
   "outputs": [
    {
     "data": {
      "text/plain": [
       "'t'"
      ]
     },
     "execution_count": 6,
     "metadata": {},
     "output_type": "execute_result"
    }
   ],
   "source": [
    "# Write a Python function that accepts a string and calculate the number of upper case letters and lower case letters\n",
    "def str_tst(s):\n",
    "    d = {\"UPPERCASE\": 0, \"LOWERCASE\": 0}\n",
    "    for c in s:\n",
    "        if c.isupper():\n",
    "            d[\"UPPERCASE\"]+=1\n",
    "            return c\n",
    "        elif c.islower():\n",
    "            d [\"LOWERCASE\"]+=1\n",
    "            return c\n",
    "        else:\n",
    "            pass\n",
    "    print (\"original string:\", s)\n",
    "    print (\"string in upper case:\", d [\"UPPERCASE\"])\n",
    "    print (\"string in lower case:\", d [\"LOWERCASE\"])\n",
    "    \n",
    "str_tst(\"The quick Brow Fox\")"
   ]
  },
  {
   "cell_type": "code",
   "execution_count": 25,
   "metadata": {},
   "outputs": [
    {
     "name": "stdout",
     "output_type": "stream",
     "text": [
      "Original String :  The quick Brow Fox\n",
      "No. of Upper case characters :  3\n",
      "No. of Lower case Characters :  12\n"
     ]
    }
   ],
   "source": [
    "def string_test(s):\n",
    "    d={\"UPPER_CASE\":0, \"LOWER_CASE\":0}\n",
    "    for c in s:\n",
    "        if c.isupper():\n",
    "           d[\"UPPER_CASE\"]+=1\n",
    "        elif c.islower():\n",
    "           d[\"LOWER_CASE\"]+=1\n",
    "        else:\n",
    "           pass\n",
    "    print (\"Original String : \", s)\n",
    "    print (\"No. of Upper case characters : \", d[\"UPPER_CASE\"])\n",
    "    print (\"No. of Lower case Characters : \", d[\"LOWER_CASE\"])\n",
    "\n",
    "string_test('The quick Brow Fox')"
   ]
  },
  {
   "cell_type": "code",
   "execution_count": 19,
   "metadata": {},
   "outputs": [
    {
     "name": "stdout",
     "output_type": "stream",
     "text": [
      "[1, 4, 5, 6, 7]\n"
     ]
    }
   ],
   "source": [
    "#function\n",
    "#Write a Python function that takes a list and returns a new list with unique elements of the first list\n",
    "def list (L1):\n",
    "    x = []\n",
    "    for i in L1:\n",
    "        if i not in x:\n",
    "            x.append(i)\n",
    "    return x\n",
    "\n",
    "print(list([1,4,4,5,5,6,7]))\n",
    "        "
   ]
  },
  {
   "cell_type": "code",
   "execution_count": 34,
   "metadata": {},
   "outputs": [
    {
     "name": "stdout",
     "output_type": "stream",
     "text": [
      "[2, 4, 6, 8]\n"
     ]
    }
   ],
   "source": [
    "#functions\n",
    "#Write a Python program to print the even numbers from a given list\n",
    "def num(L):\n",
    "    enum = []\n",
    "    for i in L:\n",
    "        if i%2==0:\n",
    "            enum.append(i)\n",
    "    return enum\n",
    "        \n",
    "print(num([1,2,3,4,5,6,7,8,9]))"
   ]
  },
  {
   "cell_type": "code",
   "execution_count": 7,
   "metadata": {},
   "outputs": [
    {
     "name": "stdout",
     "output_type": "stream",
     "text": [
      "odd no.in list\n",
      "even no.in list\n",
      "odd no.in list\n",
      "even no.in list\n"
     ]
    },
    {
     "data": {
      "text/plain": [
       "2"
      ]
     },
     "execution_count": 7,
     "metadata": {},
     "output_type": "execute_result"
    }
   ],
   "source": [
    "#Count odd and even number between 1 to 10\n",
    "#looping\n",
    "count = [1,2,3,4]\n",
    "def list(count):\n",
    "    even_count,odd_count = 0,0\n",
    "    for i in count:\n",
    "        if i%2==0:\n",
    "            even_count+=1\n",
    "            print (\"even no.in list\")\n",
    "        else: \n",
    "            odd_count+=1\n",
    "            print (\"odd no.in list\") \n",
    "    return odd_count\n",
    "list(count)\n"
   ]
  },
  {
   "cell_type": "code",
   "execution_count": 92,
   "metadata": {},
   "outputs": [
    {
     "name": "stdout",
     "output_type": "stream",
     "text": [
      "even no.of list: 4\n",
      "odd no.of list: 5\n"
     ]
    }
   ],
   "source": [
    "#Count odd and even number between 1 to 10\n",
    "#looping\n",
    "List = [1,2,3,4,5,6,7,8,9]\n",
    "even_count , odd_count = 0,0\n",
    "for i in List:\n",
    "    if i%2==0:\n",
    "        even_count+=1\n",
    "    else:\n",
    "        odd_count+=1\n",
    "print(\"even no.of list:\", even_count)\n",
    "print (\"odd no.of list:\", odd_count)\n",
    "        "
   ]
  },
  {
   "cell_type": "code",
   "execution_count": 7,
   "metadata": {},
   "outputs": [
    {
     "name": "stdout",
     "output_type": "stream",
     "text": [
      "[1, 2, 3, 4, 6, 7, 9, 10]\n"
     ]
    }
   ],
   "source": [
    "#Print all numbers from 1 to 10 except 5 and 8\n",
    "#looping\n",
    "L=[]\n",
    "for i in range(1,11):\n",
    "    if i !=5 and i !=8:\n",
    "        L.append(i)\n",
    "print (L) "
   ]
  },
  {
   "cell_type": "code",
   "execution_count": 11,
   "metadata": {},
   "outputs": [
    {
     "name": "stdout",
     "output_type": "stream",
     "text": [
      "Enter the value10\n",
      "[1, 2, 3, 4, 5, 6, 7, 8, 9, 10]\n",
      "5.5\n"
     ]
    }
   ],
   "source": [
    "#Print average of N numbers. Get value of N from user and calculate average of\n",
    "#all numbers between 1 to N\n",
    "#looping\n",
    "L=[]\n",
    "a = int(input(\"Enter the value\"))\n",
    "for i in range(1,a+1):\n",
    "     L.append(i)\n",
    "print (L)\n",
    "avg = (1+a)/2\n",
    "print (avg)"
   ]
  },
  {
   "cell_type": "code",
   "execution_count": 20,
   "metadata": {},
   "outputs": [
    {
     "name": "stdout",
     "output_type": "stream",
     "text": [
      "Enter the no.4\n",
      "56\n",
      "67\n",
      "54\n",
      "33\n",
      "[56, 67, 54, 33]\n"
     ]
    }
   ],
   "source": [
    "#Get any 5 integer values from user and store in the List\n",
    "#List\n",
    "L=[]\n",
    "n = int(input(\"Enter the no.\"))\n",
    "for i in range(0,n):\n",
    "    ele=int(input())\n",
    "    L.append(ele)\n",
    "print (L)"
   ]
  },
  {
   "cell_type": "markdown",
   "metadata": {},
   "source": [
    "#Create two separate lists of odd and even values\n",
    "#looping \n"
   ]
  },
  {
   "cell_type": "code",
   "execution_count": 32,
   "metadata": {},
   "outputs": [
    {
     "name": "stdout",
     "output_type": "stream",
     "text": [
      "[0, 2, 4, 6, 8, 10]\n",
      "[1, 3, 5, 7, 9]\n"
     ]
    }
   ],
   "source": [
    "#Create two separate lists of odd and even values\n",
    "#looping \n",
    "L1=[]\n",
    "L2= []\n",
    "for i in range(0,11):\n",
    "    if (i%2==0):\n",
    "        L1.append(i)\n",
    "    elif (i%2!=0):\n",
    "        L2.append(i)\n",
    "print (L1)\n",
    "print (L2)\n",
    "        "
   ]
  },
  {
   "cell_type": "code",
   "execution_count": 9,
   "metadata": {},
   "outputs": [
    {
     "name": "stdout",
     "output_type": "stream",
     "text": [
      "[1, 2, 3, 4]\n"
     ]
    }
   ],
   "source": [
    "#Find and display duplicate numbers from the list and remove also.\n",
    "#(remove all duplicates)\n",
    "def remove(duplicate):\n",
    "    List=[]\n",
    "    for num in duplicate:\n",
    "        if num not in List:\n",
    "            List.append(num)\n",
    "    return List\n",
    "\n",
    "duplicate= [1,2,3,4,4,3,2,1]\n",
    "print (remove(duplicate))"
   ]
  },
  {
   "cell_type": "code",
   "execution_count": 13,
   "metadata": {},
   "outputs": [
    {
     "name": "stdout",
     "output_type": "stream",
     "text": [
      "<function max at 0x0000015B77A243A8>\n"
     ]
    }
   ],
   "source": [
    "#find the maximum, minimum element of the list\n",
    "def max(element):\n",
    "    a = int(input(\"Enter the no.\"))\n",
    "    for i in range(0,a):\n",
    "        if i>=a:\n",
    "            a.append(i)\n",
    "    return a\n",
    "print (max)"
   ]
  },
  {
   "cell_type": "code",
   "execution_count": null,
   "metadata": {},
   "outputs": [],
   "source": [
    "maxlist= [1,2,3,4,5]\n"
   ]
  },
  {
   "cell_type": "code",
   "execution_count": null,
   "metadata": {},
   "outputs": [],
   "source": []
  },
  {
   "cell_type": "code",
   "execution_count": null,
   "metadata": {},
   "outputs": [],
   "source": []
  },
  {
   "cell_type": "code",
   "execution_count": null,
   "metadata": {},
   "outputs": [],
   "source": []
  }
 ],
 "metadata": {
  "kernelspec": {
   "display_name": "Python 3",
   "language": "python",
   "name": "python3"
  },
  "language_info": {
   "codemirror_mode": {
    "name": "ipython",
    "version": 3
   },
   "file_extension": ".py",
   "mimetype": "text/x-python",
   "name": "python",
   "nbconvert_exporter": "python",
   "pygments_lexer": "ipython3",
   "version": "3.7.4"
  }
 },
 "nbformat": 4,
 "nbformat_minor": 2
}
