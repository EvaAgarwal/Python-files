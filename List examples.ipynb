{
 "cells": [
  {
   "cell_type": "code",
   "execution_count": 2,
   "metadata": {},
   "outputs": [
    {
     "data": {
      "text/plain": [
       "int"
      ]
     },
     "execution_count": 2,
     "metadata": {},
     "output_type": "execute_result"
    }
   ],
   "source": [
    "a =('5')\n",
    "type(a)\n",
    "a = int(a)\n",
    "type(a)"
   ]
  },
  {
   "cell_type": "code",
   "execution_count": 25,
   "metadata": {},
   "outputs": [
    {
     "name": "stdout",
     "output_type": "stream",
     "text": [
      "['1', 'hi', 'hello', '@', 100]\n",
      "['1', 'hi', 'hello', '@', 5]\n",
      "['1', 'hello', '@', 5]\n"
     ]
    }
   ],
   "source": [
    "Liststr = ['1', \"hi\", \"hello\", '@']\n",
    "Liststr.append (100)\n",
    "print (Liststr)\n",
    "Liststr[4] = 5\n",
    "print (Liststr)\n",
    "del Liststr [1]\n",
    "print (Liststr)"
   ]
  },
  {
   "cell_type": "code",
   "execution_count": 21,
   "metadata": {},
   "outputs": [
    {
     "name": "stdout",
     "output_type": "stream",
     "text": [
      "['10', [1, 2, 3]]\n"
     ]
    }
   ],
   "source": [
    "List2 =['123', '10',[1,2,3], 45]\n",
    "Temp = List2 [1:3]\n",
    "print (Temp)\n"
   ]
  },
  {
   "cell_type": "code",
   "execution_count": 27,
   "metadata": {},
   "outputs": [
    {
     "name": "stdout",
     "output_type": "stream",
     "text": [
      "[10, 20, 20, 30]\n"
     ]
    }
   ],
   "source": [
    "L1 = [10, 20]\n",
    "L2 = [20, 30]\n",
    "L3 = L1 + L2\n",
    "print (L3)"
   ]
  },
  {
   "cell_type": "code",
   "execution_count": 59,
   "metadata": {},
   "outputs": [
    {
     "name": "stdout",
     "output_type": "stream",
     "text": [
      "[5, 8, 9, 10, 12]\n",
      "[10, 12, 9, 5]\n",
      "[10, 88, 12, 9, 5]\n",
      "True\n",
      "5\n"
     ]
    }
   ],
   "source": [
    "List = [10,12, 9, 8,5]\n",
    "print (sorted (List))\n",
    "List.pop(3)\n",
    "print (List)\n",
    "List.insert(1,88)\n",
    "print (List)\n",
    "if 88 in List:\n",
    "    print (\"True\")\n",
    "print (len(List))"
   ]
  },
  {
   "cell_type": "code",
   "execution_count": null,
   "metadata": {},
   "outputs": [],
   "source": []
  },
  {
   "cell_type": "code",
   "execution_count": 11,
   "metadata": {},
   "outputs": [
    {
     "ename": "SyntaxError",
     "evalue": "invalid syntax (<ipython-input-11-e4b0004ddfb7>, line 2)",
     "output_type": "error",
     "traceback": [
      "\u001b[1;36m  File \u001b[1;32m\"<ipython-input-11-e4b0004ddfb7>\"\u001b[1;36m, line \u001b[1;32m2\u001b[0m\n\u001b[1;33m    L1.append(a)\u001b[0m\n\u001b[1;37m     ^\u001b[0m\n\u001b[1;31mSyntaxError\u001b[0m\u001b[1;31m:\u001b[0m invalid syntax\n"
     ]
    }
   ],
   "source": [
    "a = (input(\"Enter the value\")\n",
    "L1.append(a)"
   ]
  },
  {
   "cell_type": "code",
   "execution_count": 9,
   "metadata": {},
   "outputs": [
    {
     "ename": "SyntaxError",
     "evalue": "invalid syntax (<ipython-input-9-c48302c771b2>, line 2)",
     "output_type": "error",
     "traceback": [
      "\u001b[1;36m  File \u001b[1;32m\"<ipython-input-9-c48302c771b2>\"\u001b[1;36m, line \u001b[1;32m2\u001b[0m\n\u001b[1;33m    L2 =[]\u001b[0m\n\u001b[1;37m     ^\u001b[0m\n\u001b[1;31mSyntaxError\u001b[0m\u001b[1;31m:\u001b[0m invalid syntax\n"
     ]
    }
   ],
   "source": [
    "b = (input(\"Enter the value\")\n",
    "L2 = []\n",
    "L2.append(b)"
   ]
  },
  {
   "cell_type": "code",
   "execution_count": 5,
   "metadata": {},
   "outputs": [
    {
     "data": {
      "text/plain": [
       "['10', '20']"
      ]
     },
     "execution_count": 5,
     "metadata": {},
     "output_type": "execute_result"
    }
   ],
   "source": [
    "L1+L2"
   ]
  },
  {
   "cell_type": "code",
   "execution_count": 8,
   "metadata": {},
   "outputs": [
    {
     "ename": "NameError",
     "evalue": "name 'L1' is not defined",
     "output_type": "error",
     "traceback": [
      "\u001b[1;31m---------------------------------------------------------------------------\u001b[0m",
      "\u001b[1;31mNameError\u001b[0m                                 Traceback (most recent call last)",
      "\u001b[1;32m<ipython-input-8-3da000bff4bb>\u001b[0m in \u001b[0;36m<module>\u001b[1;34m\u001b[0m\n\u001b[0;32m      1\u001b[0m \u001b[1;32mfor\u001b[0m \u001b[0mi\u001b[0m \u001b[1;32min\u001b[0m \u001b[0mrange\u001b[0m \u001b[1;33m(\u001b[0m\u001b[1;36m10\u001b[0m\u001b[1;33m,\u001b[0m\u001b[1;36m20\u001b[0m\u001b[1;33m)\u001b[0m\u001b[1;33m:\u001b[0m\u001b[1;33m\u001b[0m\u001b[1;33m\u001b[0m\u001b[0m\n\u001b[1;32m----> 2\u001b[1;33m     \u001b[0mL1\u001b[0m\u001b[1;33m.\u001b[0m\u001b[0mappend\u001b[0m\u001b[1;33m(\u001b[0m\u001b[0mi\u001b[0m\u001b[1;33m)\u001b[0m\u001b[1;33m\u001b[0m\u001b[1;33m\u001b[0m\u001b[0m\n\u001b[0m\u001b[0;32m      3\u001b[0m \u001b[0mprint\u001b[0m \u001b[1;33m(\u001b[0m\u001b[0mL1\u001b[0m\u001b[1;33m)\u001b[0m\u001b[1;33m\u001b[0m\u001b[1;33m\u001b[0m\u001b[0m\n",
      "\u001b[1;31mNameError\u001b[0m: name 'L1' is not defined"
     ]
    }
   ],
   "source": [
    "for i in range (10,20):\n",
    "    L1.append(i)\n",
    "print (L1)"
   ]
  },
  {
   "cell_type": "code",
   "execution_count": 15,
   "metadata": {},
   "outputs": [
    {
     "name": "stdout",
     "output_type": "stream",
     "text": [
      "['20', 70, 71, 72, 73, 74, 75, 76, 77, 78, 79]\n"
     ]
    }
   ],
   "source": [
    "for j in range (70,80):\n",
    "    L2.append(j)\n",
    "print (L2)"
   ]
  },
  {
   "cell_type": "code",
   "execution_count": 16,
   "metadata": {},
   "outputs": [
    {
     "data": {
      "text/plain": [
       "['10',\n",
       " 10,\n",
       " 11,\n",
       " 12,\n",
       " 13,\n",
       " 14,\n",
       " 15,\n",
       " 16,\n",
       " 17,\n",
       " 18,\n",
       " 19,\n",
       " '20',\n",
       " 70,\n",
       " 71,\n",
       " 72,\n",
       " 73,\n",
       " 74,\n",
       " 75,\n",
       " 76,\n",
       " 77,\n",
       " 78,\n",
       " 79]"
      ]
     },
     "execution_count": 16,
     "metadata": {},
     "output_type": "execute_result"
    }
   ],
   "source": [
    "L1+L2\n"
   ]
  },
  {
   "cell_type": "code",
   "execution_count": 25,
   "metadata": {},
   "outputs": [
    {
     "name": "stdout",
     "output_type": "stream",
     "text": [
      "60\n",
      "10\n",
      "30\n"
     ]
    }
   ],
   "source": [
    "L1 = [ 10, 20, 30]\n",
    "print (sum (L1))\n",
    "print (min (L1))\n",
    "print (max (L1))"
   ]
  },
  {
   "cell_type": "code",
   "execution_count": 35,
   "metadata": {},
   "outputs": [
    {
     "name": "stdout",
     "output_type": "stream",
     "text": [
      "Enter the no.6\n",
      "Enter the no.7\n",
      "Enter the no.8\n",
      "Enter the no.9\n"
     ]
    }
   ],
   "source": [
    "L= []\n",
    "for i in range(4):\n",
    "    List= input(\"Enter the no.\")\n",
    "    L.append (List)"
   ]
  },
  {
   "cell_type": "code",
   "execution_count": 36,
   "metadata": {},
   "outputs": [
    {
     "name": "stdout",
     "output_type": "stream",
     "text": [
      "['6', '7', '8', '9']\n"
     ]
    }
   ],
   "source": [
    "print(L)"
   ]
  },
  {
   "cell_type": "code",
   "execution_count": 3,
   "metadata": {},
   "outputs": [
    {
     "name": "stdout",
     "output_type": "stream",
     "text": [
      "Enter the no.78\n",
      "value\n"
     ]
    }
   ],
   "source": [
    "L2 =[]\n",
    "for i in range(4):\n",
    "    if i ==3:\n",
    "        List = input(\"Enter the no.\")\n",
    "        print(\"value\")"
   ]
  },
  {
   "cell_type": "code",
   "execution_count": null,
   "metadata": {},
   "outputs": [],
   "source": [
    "L4 =[]\n",
    "for i in range(5):\n",
    "    print (i)\n",
    "    L4.append(input(\"Enter the no.\"))\n",
    "    print (L4)\n"
   ]
  },
  {
   "cell_type": "code",
   "execution_count": 12,
   "metadata": {},
   "outputs": [
    {
     "name": "stdout",
     "output_type": "stream",
     "text": [
      "0\n",
      "1\n",
      "2\n",
      "3\n"
     ]
    },
    {
     "ename": "NameError",
     "evalue": "name 'L' is not defined",
     "output_type": "error",
     "traceback": [
      "\u001b[1;31m---------------------------------------------------------------------------\u001b[0m",
      "\u001b[1;31mNameError\u001b[0m                                 Traceback (most recent call last)",
      "\u001b[1;32m<ipython-input-12-7c761e7af3b7>\u001b[0m in \u001b[0;36m<module>\u001b[1;34m\u001b[0m\n\u001b[0;32m      3\u001b[0m     \u001b[0mprint\u001b[0m \u001b[1;33m(\u001b[0m\u001b[0mi\u001b[0m\u001b[1;33m)\u001b[0m\u001b[1;33m\u001b[0m\u001b[1;33m\u001b[0m\u001b[0m\n\u001b[0;32m      4\u001b[0m \u001b[1;32mif\u001b[0m \u001b[0mi\u001b[0m \u001b[1;33m==\u001b[0m\u001b[1;36m3\u001b[0m\u001b[1;33m:\u001b[0m\u001b[1;33m\u001b[0m\u001b[1;33m\u001b[0m\u001b[0m\n\u001b[1;32m----> 5\u001b[1;33m     \u001b[0mL\u001b[0m\u001b[1;33m.\u001b[0m\u001b[0mappend\u001b[0m \u001b[1;33m(\u001b[0m\u001b[1;36m67\u001b[0m\u001b[1;33m)\u001b[0m\u001b[1;33m\u001b[0m\u001b[1;33m\u001b[0m\u001b[0m\n\u001b[0m",
      "\u001b[1;31mNameError\u001b[0m: name 'L' is not defined"
     ]
    }
   ],
   "source": [
    "List1 = []\n",
    "for i in range(4):\n",
    "    print (i)\n",
    "    if i ==3:\n",
    "    L.append (67)"
   ]
  },
  {
   "cell_type": "code",
   "execution_count": 13,
   "metadata": {},
   "outputs": [
    {
     "name": "stdout",
     "output_type": "stream",
     "text": [
      "Enter number2\n",
      "Enter number8\n",
      "Enter number7\n",
      "Enter number6\n",
      "Enter number7\n"
     ]
    }
   ],
   "source": [
    "L1=[]\n",
    "for i in range(5):\n",
    "    a=int(input(\"Enter number\"))\n",
    "    L1.append(a)"
   ]
  },
  {
   "cell_type": "code",
   "execution_count": 14,
   "metadata": {},
   "outputs": [
    {
     "data": {
      "text/plain": [
       "[2, 8, 7, 6, 7]"
      ]
     },
     "execution_count": 14,
     "metadata": {},
     "output_type": "execute_result"
    }
   ],
   "source": [
    "L1"
   ]
  },
  {
   "cell_type": "code",
   "execution_count": 15,
   "metadata": {},
   "outputs": [
    {
     "name": "stdout",
     "output_type": "stream",
     "text": [
      "Enter number2\n"
     ]
    }
   ],
   "source": [
    "L1=[]\n",
    "a=int(input(\"Enter number\"))\n",
    "L1.append(a)"
   ]
  },
  {
   "cell_type": "code",
   "execution_count": 16,
   "metadata": {},
   "outputs": [
    {
     "data": {
      "text/plain": [
       "[2]"
      ]
     },
     "execution_count": 16,
     "metadata": {},
     "output_type": "execute_result"
    }
   ],
   "source": [
    "L1"
   ]
  },
  {
   "cell_type": "code",
   "execution_count": null,
   "metadata": {},
   "outputs": [],
   "source": [
    "L1 =[]\n",
    "for i in range(7):\n",
    "    a=int(input(\"Enter the number\"))\n",
    "    L1.append(a)\n",
    "    "
   ]
  },
  {
   "cell_type": "code",
   "execution_count": 2,
   "metadata": {},
   "outputs": [
    {
     "name": "stdout",
     "output_type": "stream",
     "text": [
      "Enter the no.1\n",
      "Enter the no.4\n",
      "Enter the no.3\n",
      "Enter the no.5\n",
      "Enter the no.6\n",
      "Enter the no.7\n",
      "Enter the no.5\n",
      "Enter the no.4\n",
      "Enter the no.33\n",
      "Enter the no.34\n",
      "[1, 4, 3, 5, 6]\n",
      "[7, 5, 4, 33, 34]\n",
      "19\n",
      "83\n"
     ]
    }
   ],
   "source": [
    "List1 = []\n",
    "for i in range(5):\n",
    "    a=int(input(\"Enter the no.\"))\n",
    "    List1.append(a)\n",
    "List2 =[]\n",
    "for j in range(5):\n",
    "    b=int(input(\"Enter the no.\"))\n",
    "    List2.append(b)\n",
    "print (List1)\n",
    "print (List2)\n",
    "print (sum(List1))\n",
    "print (sum(List2))\n"
   ]
  },
  {
   "cell_type": "code",
   "execution_count": 5,
   "metadata": {},
   "outputs": [
    {
     "name": "stdout",
     "output_type": "stream",
     "text": [
      "False\n"
     ]
    }
   ],
   "source": [
    "Lst =[1,2,3,4]\n",
    "Lst1 = [1,2,3,4]\n",
    "print (Lst != Lst1)"
   ]
  },
  {
   "cell_type": "code",
   "execution_count": 60,
   "metadata": {},
   "outputs": [
    {
     "name": "stdout",
     "output_type": "stream",
     "text": [
      "['Physics', 'History', 123, 456]\n",
      "['A', 'A']\n",
      "['A', 'B', 'C']\n",
      "[1, 2, 3, 2, 9, 4]\n",
      "[1, 2, 2, 3, 4, 9]\n",
      "['Hi', 'Hi', 'Hi', 'Hi']\n",
      "['Physics', 'History', 123, 456, 567]\n"
     ]
    }
   ],
   "source": [
    "List1 = ['Physics','Biology',123,456]\n",
    "List2 = ['A','A','B','C']\n",
    "List1[1] = 'History'\n",
    "print (List1)\n",
    "print (List2 [0:2])\n",
    "del List2[1]\n",
    "print (List2)\n",
    "Lz= [1,2,3] + [2,9,4]\n",
    "print (Lz)\n",
    "print (sorted (Lz))\n",
    "Ly = ['Hi'] *4\n",
    "print (Ly)\n",
    "List1.append(567)\n",
    "print (List1)"
   ]
  },
  {
   "cell_type": "code",
   "execution_count": 42,
   "metadata": {},
   "outputs": [
    {
     "name": "stdout",
     "output_type": "stream",
     "text": [
      "1\n",
      "2\n",
      "3\n",
      "4\n",
      "5\n",
      "6\n",
      "7\n",
      "8\n",
      "9\n"
     ]
    }
   ],
   "source": [
    "for x in range (1,10):\n",
    "    print (x)"
   ]
  },
  {
   "cell_type": "code",
   "execution_count": 47,
   "metadata": {},
   "outputs": [
    {
     "name": "stdout",
     "output_type": "stream",
     "text": [
      "Enter the no.5\n",
      "Enter the no.6\n",
      "Enter the no.7\n",
      "Enter the no.8\n",
      "Enter the no.9\n",
      "['5', '6', '7', '8', '9']\n"
     ]
    }
   ],
   "source": [
    "a=[]\n",
    "for i in range (5):\n",
    "    z=input(\"Enter the no.\")\n",
    "    a.append(z)\n",
    "print (a)\n"
   ]
  },
  {
   "cell_type": "raw",
   "metadata": {},
   "source": []
  },
  {
   "cell_type": "code",
   "execution_count": null,
   "metadata": {},
   "outputs": [],
   "source": []
  }
 ],
 "metadata": {
  "kernelspec": {
   "display_name": "Python 3",
   "language": "python",
   "name": "python3"
  },
  "language_info": {
   "codemirror_mode": {
    "name": "ipython",
    "version": 3
   },
   "file_extension": ".py",
   "mimetype": "text/x-python",
   "name": "python",
   "nbconvert_exporter": "python",
   "pygments_lexer": "ipython3",
   "version": "3.7.4"
  }
 },
 "nbformat": 4,
 "nbformat_minor": 2
}
