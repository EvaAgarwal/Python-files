{
 "cells": [
  {
   "cell_type": "code",
   "execution_count": 18,
   "metadata": {},
   "outputs": [
    {
     "name": "stdout",
     "output_type": "stream",
     "text": [
      "Enter the no.12\n"
     ]
    },
    {
     "data": {
      "text/plain": [
       "' one two '"
      ]
     },
     "execution_count": 18,
     "metadata": {},
     "output_type": "execute_result"
    }
   ],
   "source": [
    "a = input(\"Enter the no.\")\n",
    "D ={'1': 'one', '2': 'two', '3': 'three', '4': 'four','5': 'five', '6': 'six', '7': 'seven', '8': 'eight', '9': 'nine'}\n",
    "output = \" \"\n",
    "for i in a:\n",
    "    #print (D.get(i))\n",
    "    output+=D.get(i)+ ' '\n",
    "output  "
   ]
  },
  {
   "cell_type": "code",
   "execution_count": 6,
   "metadata": {},
   "outputs": [
    {
     "name": "stdout",
     "output_type": "stream",
     "text": [
      "Enter list count4\n",
      "5\n",
      "6\n",
      "7\n",
      "7\n",
      "[5, 6, 7, 7]\n",
      "[5, 6, 7]\n"
     ]
    }
   ],
   "source": [
    "L =[]\n",
    "a= int(input(\"Enter list count\"))\n",
    "for i in range(0,a):\n",
    "    L.append(int(input()))\n",
    "print (L)\n",
    "out = []\n",
    "for i in L:\n",
    "    if i not in out:\n",
    "        out.append(i)\n",
    "print(out)"
   ]
  },
  {
   "cell_type": "code",
   "execution_count": null,
   "metadata": {},
   "outputs": [
    {
     "name": "stdout",
     "output_type": "stream",
     "text": [
      "Enter the PNR:12345\n",
      "Enter the PNR:4567\n",
      "Enter the PNR:5678\n",
      "Enter the PNR:5678\n",
      "Enter the PNR:3456\n",
      "Enter the PNR:4567\n",
      "Enter the PNR:567889\n"
     ]
    }
   ],
   "source": [
    "PNR = 87546\n",
    "count=0\n",
    "while (count!=3):\n",
    "    a=int(input(\"Enter the PNR:\"))\n",
    "count +=1\n",
    "if PNR==a:    \n",
    "    print (\"PNR status cleared\")\n",
    "else:\n",
    "    print (\"PNR pending\")\n",
    "if count==3:\n",
    "    print(\"user has been blocked\")"
   ]
  },
  {
   "cell_type": "code",
   "execution_count": 5,
   "metadata": {},
   "outputs": [
    {
     "name": "stdout",
     "output_type": "stream",
     "text": [
      "welcome to Geeks for Geeks abc\n"
     ]
    }
   ],
   "source": [
    "print (\"welcome to\", end = ' ')\n",
    "print (\"Geeks for Geeks\", end = ' ')\n",
    "print (\"abc\")"
   ]
  },
  {
   "cell_type": "code",
   "execution_count": null,
   "metadata": {},
   "outputs": [],
   "source": []
  }
 ],
 "metadata": {
  "kernelspec": {
   "display_name": "Python 3",
   "language": "python",
   "name": "python3"
  },
  "language_info": {
   "codemirror_mode": {
    "name": "ipython",
    "version": 3
   },
   "file_extension": ".py",
   "mimetype": "text/x-python",
   "name": "python",
   "nbconvert_exporter": "python",
   "pygments_lexer": "ipython3",
   "version": "3.7.4"
  }
 },
 "nbformat": 4,
 "nbformat_minor": 2
}
