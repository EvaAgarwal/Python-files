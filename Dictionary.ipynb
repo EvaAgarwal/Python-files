{
 "cells": [
  {
   "cell_type": "code",
   "execution_count": 13,
   "metadata": {},
   "outputs": [
    {
     "name": "stdout",
     "output_type": "stream",
     "text": [
      "Enter the no.3\n",
      "Enter the no.4\n",
      "['34']\n"
     ]
    }
   ],
   "source": [
    "Listsum =[]\n",
    "L1=input(\"Enter the no.\")\n",
    "L2 =input(\"Enter the no.\")\n",
    "for i in range(len(L1)):\n",
    "    Listsum.append(L1[i]+L2[i])\n",
    "print (Listsum)"
   ]
  },
  {
   "cell_type": "code",
   "execution_count": null,
   "metadata": {},
   "outputs": [],
   "source": []
  },
  {
   "cell_type": "markdown",
   "metadata": {},
   "source": [
    "a=0\n",
    "while a<11:\n",
    "    print (a)\n",
    "    a =a+1"
   ]
  },
  {
   "cell_type": "code",
   "execution_count": 2,
   "metadata": {},
   "outputs": [
    {
     "data": {
      "text/plain": [
       "[0, 1, 2, 3, 4, 5, 6, 7, 8, 9]"
      ]
     },
     "execution_count": 2,
     "metadata": {},
     "output_type": "execute_result"
    }
   ],
   "source": [
    "L =[]\n",
    "a =0\n",
    "while a<10:\n",
    "    L.append(a)\n",
    "    a=a+1\n",
    "L"
   ]
  },
  {
   "cell_type": "code",
   "execution_count": 4,
   "metadata": {},
   "outputs": [
    {
     "data": {
      "text/plain": [
       "{1, 6, 8, 45, 88}"
      ]
     },
     "execution_count": 4,
     "metadata": {},
     "output_type": "execute_result"
    }
   ],
   "source": [
    "L =[1,6,88,8,45]\n",
    "S =set(L)\n",
    "S"
   ]
  },
  {
   "cell_type": "code",
   "execution_count": 13,
   "metadata": {},
   "outputs": [
    {
     "name": "stdout",
     "output_type": "stream",
     "text": [
      "{1, 5, 6, 9, 90}\n",
      "{6}\n",
      "{1, 5}\n",
      "{9, 90}\n",
      "{1, 5, 9, 90}\n"
     ]
    }
   ],
   "source": [
    "A = {1,5,6}\n",
    "B ={6,9,90}\n",
    "C = A.union (B) \n",
    "print (C)\n",
    "D = A.intersection (B) \n",
    "print (D)\n",
    "E = A.difference (B)\n",
    "print (E)\n",
    "F = B-A\n",
    "print (F)\n",
    "G=A^B\n",
    "print (G)"
   ]
  },
  {
   "cell_type": "code",
   "execution_count": 58,
   "metadata": {},
   "outputs": [
    {
     "name": "stdout",
     "output_type": "stream",
     "text": [
      "dict_keys(['Subject', 'Marks', 'roll_no'])\n",
      "dict_values([['Bio', 'chem', 'Maths'], [30, 24, 45], [3, 4, 5]])\n",
      "dict_items([('Subject', ['Bio', 'chem', 'Maths']), ('Marks', [30, 24, 45]), ('roll_no', [3, 4, 5])])\n",
      "{'Subject': ['Bio', 'chem', 'Maths'], 'Marks': [30, 24, 45], 'roll_no': [3, 4, 5], 'Email': ['a', 'b', 'c']}\n",
      "Subject\n",
      "Marks\n",
      "roll_no\n",
      "Email\n"
     ]
    }
   ],
   "source": [
    "Dict = {'Subject': ['Bio','chem','Maths'],\n",
    "       'Marks': [30,24,45],'roll_no':[3,4,5] \n",
    "       }\n",
    "print (Dict.keys())\n",
    "print (Dict.values())\n",
    "print (Dict.items())\n",
    "Dict['Email'] = ['a','b','c']\n",
    "print (Dict)\n",
    "for i,j in Dict.items():\n",
    "    print(i,j)\n",
    "\n"
   ]
  },
  {
   "cell_type": "code",
   "execution_count": 44,
   "metadata": {},
   "outputs": [
    {
     "ename": "SyntaxError",
     "evalue": "invalid syntax (<ipython-input-44-f3b4975aa990>, line 1)",
     "output_type": "error",
     "traceback": [
      "\u001b[1;36m  File \u001b[1;32m\"<ipython-input-44-f3b4975aa990>\"\u001b[1;36m, line \u001b[1;32m1\u001b[0m\n\u001b[1;33m    Dict =\u001b[0m\n\u001b[1;37m           ^\u001b[0m\n\u001b[1;31mSyntaxError\u001b[0m\u001b[1;31m:\u001b[0m invalid syntax\n"
     ]
    }
   ],
   "source": []
  },
  {
   "cell_type": "code",
   "execution_count": 2,
   "metadata": {},
   "outputs": [
    {
     "name": "stdout",
     "output_type": "stream",
     "text": [
      "dict_keys(['Name', 'Age', 'rollno'])\n",
      "dict_items([('Name', ['A', 'B', 'C']), ('Age', [12, 13, 14]), ('rollno', [1, 2, 3])])\n"
     ]
    }
   ],
   "source": [
    "D = {'Name': ['A','B','C'], 'Age':[12,13,14], 'rollno':[1,2,3]}\n",
    "print (D.keys())\n",
    "print(D.items())"
   ]
  },
  {
   "cell_type": "code",
   "execution_count": null,
   "metadata": {},
   "outputs": [],
   "source": []
  }
 ],
 "metadata": {
  "kernelspec": {
   "display_name": "Python 3",
   "language": "python",
   "name": "python3"
  },
  "language_info": {
   "codemirror_mode": {
    "name": "ipython",
    "version": 3
   },
   "file_extension": ".py",
   "mimetype": "text/x-python",
   "name": "python",
   "nbconvert_exporter": "python",
   "pygments_lexer": "ipython3",
   "version": "3.7.4"
  }
 },
 "nbformat": 4,
 "nbformat_minor": 2
}
